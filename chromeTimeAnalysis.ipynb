{
 "cells": [
  {
   "cell_type": "code",
   "execution_count": 1,
   "metadata": {},
   "outputs": [],
   "source": [
    "import csv\n",
    "from datetime import datetime, timedelta\n",
    "\n",
    "# Path to the CSV log file\n",
    "LOG_FILE = 'chrome_focus_log.csv'\n",
    "\n",
    "def format_duration(seconds):\n",
    "    \"\"\"Format duration in seconds to hh:mm:ss.\"\"\"\n",
    "    return str(timedelta(seconds=seconds))\n",
    "\n",
    "def calculate_daily_durations(date_str):\n",
    "    \"\"\"Calculate and print total time spent on each unique id for a given date.\"\"\"\n",
    "    daily_data = {}\n",
    "    total_duration = 0\n",
    "\n",
    "    try:\n",
    "        with open(LOG_FILE, newline='') as csvfile:\n",
    "            reader = csv.DictReader(csvfile)\n",
    "            \n",
    "            for row in reader:\n",
    "                # Parse the timestamp and check if it matches the target date\n",
    "                try:\n",
    "                    timestamp = datetime.strptime(row['timestamp'], '%Y-%m-%d %H:%M:%S')\n",
    "                    if timestamp.strftime('%d-%m-%Y') == date_str:\n",
    "                        duration = int(row['duration']) if row['duration'].isdigit() else 0\n",
    "                        title = row['title']\n",
    "                        \n",
    "                        # Add duration to the corresponding id\n",
    "                        if row['id'] in daily_data:\n",
    "                            daily_data[row['id']]['duration'] += duration\n",
    "                        else:\n",
    "                            daily_data[row['id']] = {'title': title, 'duration': duration}\n",
    "                        \n",
    "                        # Accumulate total duration\n",
    "                        total_duration += duration\n",
    "                except ValueError as e:\n",
    "                    print(f\"Skipping row due to error: {e}\")\n",
    "\n",
    "        # Output results in the desired format\n",
    "        print(f\"Date: {date_str}\")\n",
    "        for i, (id, data) in enumerate(daily_data.items(), start=1):\n",
    "            print(f\"{i}. {data['title']} - {format_duration(data['duration'])}\")\n",
    "        \n",
    "        print(f\"\\nTotal Duration: {format_duration(total_duration)}\")\n",
    "\n",
    "    except FileNotFoundError:\n",
    "        print(f\"Log file not found at path: {LOG_FILE}\")\n",
    "    except Exception as e:\n",
    "        print(f\"An error occurred: {e}\")\n",
    "\n",
    "# Example usage\n",
    "date_input = input(\"Enter the date (dd-mm-yyyy): \")\n",
    "calculate_daily_durations(date_input)"
   ]
  }
 ],
 "metadata": {
  "kernelspec": {
   "display_name": "Python 3",
   "language": "python",
   "name": "python3"
  },
  "language_info": {
   "codemirror_mode": {
    "name": "ipython",
    "version": 3
   },
   "file_extension": ".py",
   "mimetype": "text/x-python",
   "name": "python",
   "nbconvert_exporter": "python",
   "pygments_lexer": "ipython3",
   "version": "3.11.5"
  }
 },
 "nbformat": 4,
 "nbformat_minor": 2
}
